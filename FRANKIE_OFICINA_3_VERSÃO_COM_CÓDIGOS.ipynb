{
  "nbformat": 4,
  "nbformat_minor": 0,
  "metadata": {
    "colab": {
      "name": "FRANKIE - OFICINA 3 - VERSÃO COM CÓDIGOS",
      "provenance": [],
      "collapsed_sections": [],
      "include_colab_link": true
    },
    "kernelspec": {
      "name": "python3",
      "display_name": "Python 3"
    }
  },
  "cells": [
    {
      "cell_type": "markdown",
      "metadata": {
        "id": "view-in-github",
        "colab_type": "text"
      },
      "source": [
        "<a href=\"https://colab.research.google.com/github/idcesares/Data-Science-Mini-Projects/blob/main/FRANKIE_OFICINA_3_VERS%C3%83O_COM_C%C3%93DIGOS.ipynb\" target=\"_parent\"><img src=\"https://colab.research.google.com/assets/colab-badge.svg\" alt=\"Open In Colab\"/></a>"
      ]
    },
    {
      "cell_type": "markdown",
      "metadata": {
        "id": "01J3VG8r3Y-X"
      },
      "source": [
        "#Oficina 3\n",
        "\n",
        "Olá pessoal! Bem vindos ao nosso Google Colab!\n",
        "Este ambiente é o Python ! Muito cuidado com a Indentação !\n",
        "\n",
        "Nesta atividade você irá:\n",
        "* 01. Instalar a Wisard\n",
        "* 02. Importar bibliotecas\n",
        "* 03. Acessar pasta no Google Drive pelo Google Colab\n",
        "* 04. Definir o número de endereços de cada neurônio\n",
        "* 05. Organizar os elementos de treino da Wisard - Transformar imagens em vetores\n",
        "* 06. Treinar a Wisard\n",
        "* 07. Acessar a Imagem fotografada\n",
        "* 08. Tratar a imagem fotografada - Transformar imagem em vetor\n",
        "* 09. Checar a imagem de teste\n",
        "* 10. Escrever os resultados da classificação"
      ]
    },
    {
      "cell_type": "markdown",
      "metadata": {
        "id": "Klnd4i98zeft"
      },
      "source": [
        "PRIMEIRA CÉLULA: **INSTALANDO A WISARD**"
      ]
    },
    {
      "cell_type": "code",
      "metadata": {
        "id": "sOHc84VFy3Kd",
        "colab": {
          "base_uri": "https://localhost:8080/"
        },
        "outputId": "dbdd2526-9cb2-405c-b6f3-bf9dc5d8802b"
      },
      "source": [
        "pip install wisardpkg"
      ],
      "execution_count": null,
      "outputs": [
        {
          "output_type": "stream",
          "name": "stdout",
          "text": [
            "Looking in indexes: https://pypi.org/simple, https://us-python.pkg.dev/colab-wheels/public/simple/\n",
            "Requirement already satisfied: wisardpkg in /usr/local/lib/python3.7/dist-packages (1.6.3)\n",
            "Requirement already satisfied: pybind11>=2.2 in /usr/local/lib/python3.7/dist-packages (from wisardpkg) (2.9.2)\n"
          ]
        }
      ]
    },
    {
      "cell_type": "markdown",
      "metadata": {
        "id": "q6yUfM7Hzm9s"
      },
      "source": [
        "SEGUNDA CÉLULA: **IMPORTANDO BIBLIOTECAS**"
      ]
    },
    {
      "cell_type": "code",
      "metadata": {
        "id": "DwIr4x3Qxr0E"
      },
      "source": [
        "#!/usr/bin/env python\n",
        "from __future__ import print_function\n",
        "import wisardpkg as wp\n",
        "import cv2\n",
        "import PIL\n",
        "import numpy\n",
        "import time\n",
        "import sys"
      ],
      "execution_count": null,
      "outputs": []
    },
    {
      "cell_type": "markdown",
      "metadata": {
        "id": "68kADgx7Fb4s"
      },
      "source": [
        "TERCEIRA CÉLULA: **ACESSAR PASTA COM AS IMAGENS DE TREINO E TESTE NO GOOGLE DRIVE PELO GOOGLE COLAB**"
      ]
    },
    {
      "cell_type": "code",
      "metadata": {
        "id": "ER59R1LuzHVw",
        "outputId": "99a2e3fc-7461-4204-f7b4-b8e94a2831cc",
        "colab": {
          "base_uri": "https://localhost:8080/"
        }
      },
      "source": [
        "from google.colab import drive\n",
        "drive.mount('/content/gdrive')"
      ],
      "execution_count": null,
      "outputs": [
        {
          "output_type": "stream",
          "name": "stdout",
          "text": [
            "Mounted at /content/gdrive\n"
          ]
        }
      ]
    },
    {
      "cell_type": "code",
      "metadata": {
        "id": "EtwL71gCZjl8"
      },
      "source": [
        "# Run this cell to mount your Google Drive.\n",
        "from google.colab import drive\n",
        "drive.mount('/content/drive')"
      ],
      "execution_count": null,
      "outputs": []
    },
    {
      "cell_type": "markdown",
      "metadata": {
        "id": "SX5bjjMPxyK6"
      },
      "source": [
        "**>>> ATIVIDADES DE TREINO <<<**"
      ]
    },
    {
      "cell_type": "markdown",
      "metadata": {
        "id": "BFO17yD21VI-"
      },
      "source": [
        "QUARTA CÉLULA: **DEFINIR O TAMANHO DOS ENDEREÇOS i DE CADA NEURÔNIO**"
      ]
    },
    {
      "cell_type": "code",
      "metadata": {
        "id": "eVPi_8qQ1SC5"
      },
      "source": [
        "#Wisard\n",
        "addressSize = 8\n",
        "ignoreZero  = False\n",
        "verbose = True\n",
        "wsd = wp.Wisard(addressSize, ignoreZero=ignoreZero, verbose=verbose,returnConfidence=True)"
      ],
      "execution_count": null,
      "outputs": []
    },
    {
      "cell_type": "markdown",
      "metadata": {
        "id": "-ji63me_ujUt"
      },
      "source": [
        "QUINTA CÉLULA: **DEFININDO O TREINO DA WISARD** Observe que a ordem é X - Vetores e y - Rótulos\n",
        "\n",
        "---\n",
        "\n",
        "Obs.: Com a mesma imagem capturada, se dermos o play diferentes vezes na célula de treino, obteremos valores de confiança diferentes no final. Isso acontece por que a Wisard escolhe aleatoriamente os pixels toda vez que é treinada e isso altera o resultado."
      ]
    },
    {
      "cell_type": "code",
      "metadata": {
        "id": "sMn8s5houkMi"
      },
      "source": [
        "def switch_class_name(class_number):\n",
        "    switcher = {1: \"Quadrado\", 2: \"Triângulo\", 3: \"Circulo\", 4: \"Estrela\", 5: \"Seta\",}  # Os rótulos  \n",
        "    return switcher.get(class_number)\n",
        "  \n",
        "def train_wisard (wisard):\n",
        "    X=[]\n",
        "    y=[]\n",
        "    #print (\"Treinando Wisard...\")\n",
        "    for i in range(1,6):   # Alterar de acordo com o número de classes\n",
        "        for j in range(1,11):  # Alterar de acordo com o número de imagens de treino\n",
        "            print (\"carregando classe \" + str(i) +\" exemplar \" + str(j))\n",
        "            file = '/content/gdrive/My Drive/Colab Notebooks/projetofrankieoficina3/quatro_classes_scan/classe_'+str(i) +'/picture_' + str(j)+'.bmp'\n",
        "            img = cv2.imread(file,0)\n",
        "            img = cv2.resize(img,(100, 100)) # Número de linhas e colunas da retina. Neste caso, são 10000 pixels. Pode ser alterado.\n",
        "            input_data = [(1 if e==255 else 0) for e in img.flatten()] # Aqui a imagem vira vetor !\n",
        "            X.append(input_data)\n",
        "            y.append(switch_class_name (i))\n",
        "            wisard.train(X,y)"
      ],
      "execution_count": null,
      "outputs": []
    },
    {
      "cell_type": "markdown",
      "metadata": {
        "id": "3rvDbQAu05h_"
      },
      "source": [
        "SEXTA CÉLULA: **TREINANDO A WISARD** "
      ]
    },
    {
      "cell_type": "code",
      "metadata": {
        "id": "htOZvKmlz7-L"
      },
      "source": [
        "train_wisard(wsd)"
      ],
      "execution_count": null,
      "outputs": []
    },
    {
      "cell_type": "markdown",
      "metadata": {
        "id": "VGPTzwbj0bre"
      },
      "source": [
        "**>>> ATIVIDADES DE TESTE <<<**"
      ]
    },
    {
      "cell_type": "markdown",
      "metadata": {
        "id": "srMW6LHexOC6"
      },
      "source": [
        "SÉTIMA CÉLULA: **ACESSANDO A IMAGEM FOTOGRAFADA**"
      ]
    },
    {
      "cell_type": "code",
      "metadata": {
        "id": "vE0djyicxOo5"
      },
      "source": [
        "def get_pic_and_rec():\n",
        "    Z=[]\n",
        "    print(\"Obtendo imagem...\")\n",
        "    \n",
        "                                  #TROCAR O NOME PARA O NOME DA NOVA IMAGEM\n",
        "    \n",
        "    testFile = PIL.Image.open ('/content/gdrive/My Drive/Colab Notebooks/projetofrankieoficina3/teste3.jpg')\n",
        "    \n",
        "                                  #CONTINUANDO\n",
        "    \n",
        "    image_to_rec = process_image (testFile) #captura a imagem\n",
        "\n",
        "    #transforma a imagem da openCV em um vetor de entrada para WiSARD\n",
        "    input_data = [(1 if e==255 else 0) for e in image_to_rec.flatten()]\n",
        "\n",
        "    #time.sleep(2)  #espera 2 segundos pra mostrar a resposta (retirar - usado nos testes para facilitar visualização da saída)\n",
        "\n",
        "    Z.append(input_data)\n",
        "\n",
        "    dn=0  #bacalhau pra ver se gerou uma imagem toda preta na hora da transformação\n",
        "    for e in image_to_rec.flatten():\n",
        "        if e != 0:\n",
        "            dn=1\n",
        "            break\n",
        "    if dn == 0:\n",
        "        return [\"nao sei\",\"indefinida\"]\n",
        "    else: #senão gerou uma imagem toda preta, diz o que reconheceu\n",
        "        image_id_conf = recognize(Z)\n",
        "        #Verifica confiança da imagem\n",
        "        if image_id_conf[1]< 0.0:\n",
        "            return [\"nao sei\", image_id_conf[1]]\n",
        "        else:\n",
        "            return recognize(Z)"
      ],
      "execution_count": null,
      "outputs": []
    },
    {
      "cell_type": "markdown",
      "metadata": {
        "id": "KcWxij8vxuVK"
      },
      "source": [
        "OITAVA CÉLULA: **TRATANDO A IMAGEM FOTOGRAFADA**"
      ]
    },
    {
      "cell_type": "code",
      "metadata": {
        "id": "iLY0S8BJ0aYU"
      },
      "source": [
        "def process_image(initial_image):\n",
        "    \n",
        "    #Transforma a imagem em preto e branco\n",
        "    image_gray = cv2.cvtColor(numpy.array(initial_image), cv2.COLOR_BGR2GRAY)\n",
        "    _,image_thresh = cv2.threshold(image_gray,50,255,cv2.THRESH_BINARY)\n",
        "    image_risized = cv2.resize(image_thresh,(100,100))\n",
        "    \n",
        "    #escreve a imagem no disco para poder inverter (bacalhau)\n",
        "    cv2.imwrite(\"/content/gdrive/My Drive/Colab Notebooks/projetofrankieoficina3/image.bmp\", image_risized) \n",
        "    \n",
        "    #inverte a imagem\n",
        "    inverted_image= cv2.imread(\"/content/gdrive/My Drive/Colab Notebooks/projetofrankieoficina3/image.bmp\")\n",
        "    inverted_image[inverted_image == 255] = 1\n",
        "    inverted_image[inverted_image == 0] = 255\n",
        "    inverted_image[inverted_image == 1] = 0\n",
        "    \n",
        "    #prepara a imagem para ser usada no findContours (bacalhau)\n",
        "    inverted_image_gray = cv2.cvtColor(inverted_image,cv2.COLOR_BGR2GRAY)\n",
        "    ret,inverted_image_tresh = cv2.threshold(inverted_image_gray,127,255,0)\n",
        "    #so controle para ver o resultado da trasnformaçao\n",
        "    cv2.imwrite(\"/content/gdrive/My Drive/Colab Notebooks/projetofrankieoficina3/inverted_image.bmp\", inverted_image_tresh) \n",
        "    \n",
        "    #encontra as coordenadas da figura geometrica dentro da imagem capturada\n",
        "    #contours, hierarchy = cv2.findContours(inverted_image_tresh,cv2.RETR_TREE,cv2.CHAIN_APPROX_SIMPLE)\n",
        "    im2,contours, hierarchy = cv2.findContours(inverted_image_tresh,cv2.RETR_TREE,cv2.CHAIN_APPROX_SIMPLE)\n",
        "    cnt = contours[0]\n",
        "    x,y,w,h = cv2.boundingRect(cnt)\n",
        "    \n",
        "    #recorda e cria uma nova imagem somente com a figura geometrica\n",
        "    ret,inverted_image = cv2.threshold(inverted_image,0,255,cv2.THRESH_BINARY_INV)  \n",
        "    detected_image = inverted_image[y:y+h,x:x+w]\n",
        "    \n",
        "    detected_image = cv2.cvtColor(detected_image,cv2.COLOR_BGR2GRAY)\n",
        "    \n",
        "    _,detected_image = cv2.threshold(detected_image,50,255,cv2.THRESH_BINARY)       \n",
        "    \n",
        "    #redimensiona a imagem\n",
        "    detected_image_risized = cv2.resize(detected_image,(100, 100))\n",
        "        \n",
        "    #so controle para ver o resultado da trasnformaçao\n",
        "    cv2.imwrite(\"/content/gdrive/My Drive/Colab Notebooks/projetofrankieoficina3/detected_image_risized.bmp\", detected_image_risized)               \n",
        "        \n",
        "    return detected_image_risized"
      ],
      "execution_count": null,
      "outputs": []
    },
    {
      "cell_type": "markdown",
      "metadata": {
        "id": "sCoTot_vvRrI"
      },
      "source": [
        "NONA CÉLULA: **CHECANDO A IMAGEM DE TESTE**"
      ]
    },
    {
      "cell_type": "code",
      "metadata": {
        "id": "9egoc547PfTY"
      },
      "source": [
        "def recognize (vector):\n",
        "    out = wsd.classify(vector)\n",
        "    \n",
        "    return [out[0][\"class\"],out[0][\"confidence\"]]"
      ],
      "execution_count": null,
      "outputs": []
    },
    {
      "cell_type": "markdown",
      "metadata": {
        "id": "p6fJ6A-Yt6tD"
      },
      "source": [
        "DÉCIMA CÉLULA: **ESCREVENDO O RESULTADO DA CLASSIFICAÇÃO**"
      ]
    },
    {
      "cell_type": "code",
      "metadata": {
        "id": "iAEOeA444hwC",
        "outputId": "58637a66-b737-4730-9b25-3f910a4902ae",
        "colab": {
          "base_uri": "https://localhost:8080/",
          "height": 104
        }
      },
      "source": [
        "#acessa a foto no Google Drive para reconhecer com a WiSARD\n",
        "entrada = input(\"Tecle t para testar ou s para sair e depois tecle enter: \")\n",
        "while entrada != \"s\":\n",
        "    image_id_conf = get_pic_and_rec()\n",
        "    print (\"Forma determinada: \" + str( image_id_conf[0]) + \" - Confiança: %.6s\" % (image_id_conf[1] * 100) + \"%\")\n",
        "    entrada = input(\"Tecle t para testar ou s para sair e depois tecle enter: \")"
      ],
      "execution_count": null,
      "outputs": [
        {
          "output_type": "stream",
          "text": [
            "Tecle t para testar ou s para sair e depois tecle enter: t\n",
            "Obtendo imagem...\n",
            "Forma determinada: Triângulo - Confiança: 95.646%\n"
          ],
          "name": "stdout"
        }
      ]
    }
  ]
}